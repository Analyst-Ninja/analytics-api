{
 "cells": [
  {
   "cell_type": "code",
   "execution_count": 1,
   "metadata": {},
   "outputs": [
    {
     "data": {
      "text/plain": [
       "'http://localhost:8000/api/events/12'"
      ]
     },
     "execution_count": 1,
     "metadata": {},
     "output_type": "execute_result"
    }
   ],
   "source": [
    "import requests\n",
    "\n",
    "base_url = \"http://localhost:8000\"\n",
    "path = \"/api/events\"\n",
    "\n",
    "get_endpoint = f\"{base_url}{path}\"\n",
    "get_endpoint\n",
    "\n",
    "\n",
    "event_id=12\n",
    "create_endpoint = f\"{base_url}{path}/{event_id}\"\n",
    "create_endpoint"
   ]
  },
  {
   "cell_type": "code",
   "execution_count": 2,
   "metadata": {},
   "outputs": [
    {
     "name": "stdout",
     "output_type": "stream",
     "text": [
      "True b'{\"results\":[{\"id\":1,\"page\":\"\",\"description\":\"\"},{\"id\":2,\"page\":\"\",\"description\":\"\"},{\"id\":3,\"page\":\"\",\"description\":\"\"},{\"id\":4,\"page\":\"\",\"description\":\"\"}],\"count\":4}' 200\n"
     ]
    }
   ],
   "source": [
    "res = requests.get(url=get_endpoint)\n",
    "print(res.ok, res.content, res.status_code)"
   ]
  },
  {
   "cell_type": "code",
   "execution_count": 3,
   "metadata": {},
   "outputs": [
    {
     "name": "stdout",
     "output_type": "stream",
     "text": [
      "True b'{\"id\":12,\"page\":\"\",\"description\":\"\"}' 200\n"
     ]
    }
   ],
   "source": [
    "res = requests.get(url=create_endpoint)\n",
    "print(res.ok, res.content, res.status_code)"
   ]
  },
  {
   "cell_type": "code",
   "execution_count": null,
   "metadata": {},
   "outputs": [],
   "source": []
  }
 ],
 "metadata": {
  "kernelspec": {
   "display_name": ".venv",
   "language": "python",
   "name": "python3"
  },
  "language_info": {
   "codemirror_mode": {
    "name": "ipython",
    "version": 3
   },
   "file_extension": ".py",
   "mimetype": "text/x-python",
   "name": "python",
   "nbconvert_exporter": "python",
   "pygments_lexer": "ipython3",
   "version": "3.12.3"
  }
 },
 "nbformat": 4,
 "nbformat_minor": 2
}
