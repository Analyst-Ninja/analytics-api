{
 "cells": [
  {
   "cell_type": "code",
   "execution_count": 2,
   "metadata": {},
   "outputs": [
    {
     "name": "stdout",
     "output_type": "stream",
     "text": [
      "Collecting faker\n",
      "  Downloading faker-37.1.0-py3-none-any.whl.metadata (15 kB)\n",
      "Requirement already satisfied: requests in /media/de-ninja/codebase/finalized-projects/analytics-api/.venv/lib/python3.12/site-packages (2.32.3)\n",
      "Collecting tzdata (from faker)\n",
      "  Downloading tzdata-2025.2-py2.py3-none-any.whl.metadata (1.4 kB)\n",
      "Requirement already satisfied: charset-normalizer<4,>=2 in /media/de-ninja/codebase/finalized-projects/analytics-api/.venv/lib/python3.12/site-packages (from requests) (3.4.1)\n",
      "Requirement already satisfied: idna<4,>=2.5 in /media/de-ninja/codebase/finalized-projects/analytics-api/.venv/lib/python3.12/site-packages (from requests) (3.10)\n",
      "Requirement already satisfied: urllib3<3,>=1.21.1 in /media/de-ninja/codebase/finalized-projects/analytics-api/.venv/lib/python3.12/site-packages (from requests) (2.3.0)\n",
      "Requirement already satisfied: certifi>=2017.4.17 in /media/de-ninja/codebase/finalized-projects/analytics-api/.venv/lib/python3.12/site-packages (from requests) (2025.1.31)\n",
      "Downloading faker-37.1.0-py3-none-any.whl (1.9 MB)\n",
      "\u001b[2K   \u001b[38;2;114;156;31m━━━━━━━━━━━━━━━━━━━━━━━━━━━━━━━━━━━━━━━━\u001b[0m \u001b[32m1.9/1.9 MB\u001b[0m \u001b[31m8.1 MB/s\u001b[0m eta \u001b[36m0:00:00\u001b[0m MB/s\u001b[0m eta \u001b[36m0:00:01\u001b[0m:01\u001b[0m\n",
      "\u001b[?25hDownloading tzdata-2025.2-py2.py3-none-any.whl (347 kB)\n",
      "\u001b[2K   \u001b[38;2;114;156;31m━━━━━━━━━━━━━━━━━━━━━━━━━━━━━━━━━━━━━━━━\u001b[0m \u001b[32m347.8/347.8 kB\u001b[0m \u001b[31m10.4 MB/s\u001b[0m eta \u001b[36m0:00:00\u001b[0m\n",
      "\u001b[?25hInstalling collected packages: tzdata, faker\n",
      "Successfully installed faker-37.1.0 tzdata-2025.2\n"
     ]
    }
   ],
   "source": [
    "!pip install faker requests"
   ]
  },
  {
   "cell_type": "code",
   "execution_count": 18,
   "metadata": {},
   "outputs": [
    {
     "name": "stdout",
     "output_type": "stream",
     "text": [
      "{'time': '2025-04-01T19:11:22.770895Z', 'page': '/settings', 'ip_address': '122.122.169.112', 'session_id': '967fe148-511e-40a5-9995-8ec453a70745', 'user_agent': 'Mozilla/5.0 (Windows NT 6.0) AppleWebKit/531.1 (KHTML, like Gecko) Chrome/34.0.825.0 Safari/531.1', 'id': 1, 'referrer': 'https://google.com', 'duration': 3701}\n",
      "{'time': '2025-04-01T19:11:23.696961Z', 'page': '/settings', 'ip_address': '33.213.43.83', 'session_id': 'da823d6c-e3aa-4301-9bc4-33646cf72e22', 'user_agent': 'Opera/8.66.(Windows NT 6.2; gl-ES) Presto/2.9.182 Version/10.00', 'id': 2, 'referrer': 'https://google.com', 'duration': 4570}\n",
      "{'time': '2025-04-01T19:11:24.722470Z', 'page': '/dashboard', 'ip_address': '34.158.222.250', 'session_id': 'c7799457-3969-4765-8198-c6805f31c422', 'user_agent': 'Mozilla/5.0 (X11; Linux i686) AppleWebKit/535.1 (KHTML, like Gecko) Chrome/21.0.852.0 Safari/535.1', 'id': 3, 'referrer': 'https://twitter.com', 'duration': 908}\n",
      "{'time': '2025-04-01T19:11:25.638889Z', 'page': '/signup', 'ip_address': '88.237.220.37', 'session_id': '056189a0-b5ef-4a19-a753-3504c2c2b85b', 'user_agent': 'Mozilla/5.0 (iPad; CPU iPad OS 8_4_1 like Mac OS X) AppleWebKit/536.0 (KHTML, like Gecko) CriOS/52.0.844.0 Mobile/63V098 Safari/536.0', 'id': 4, 'referrer': 'https://google.com', 'duration': 2338}\n",
      "{'time': '2025-04-01T19:11:27.359507Z', 'page': '/contact', 'ip_address': '22.195.115.186', 'session_id': 'c33b1bd6-90bf-420d-9d2f-aa4d7685d9d4', 'user_agent': 'Mozilla/5.0 (iPod; U; CPU iPhone OS 3_3 like Mac OS X; zh-TW) AppleWebKit/534.41.4 (KHTML, like Gecko) Version/4.0.5 Mobile/8B112 Safari/6534.41.4', 'id': 5, 'referrer': 'https://google.com', 'duration': 1738}\n",
      "{'time': '2025-04-01T19:11:28.504577Z', 'page': '/contact', 'ip_address': '87.91.137.111', 'session_id': 'a95121be-966a-4d3f-8b70-d7f28db60b3a', 'user_agent': 'Mozilla/5.0 (Macintosh; U; PPC Mac OS X 10_6_8) AppleWebKit/532.2 (KHTML, like Gecko) Chrome/18.0.819.0 Safari/532.2', 'id': 6, 'referrer': 'https://facebook.com', 'duration': 4213}\n",
      "{'time': '2025-04-01T19:11:29.504647Z', 'page': '/about', 'ip_address': '150.197.148.222', 'session_id': '2e3ef06a-c56b-44b8-860d-6b2db2b9c620', 'user_agent': 'Mozilla/5.0 (iPhone; CPU iPhone OS 2_2_1 like Mac OS X) AppleWebKit/534.0 (KHTML, like Gecko) FxiOS/13.0m9891.0 Mobile/18E029 Safari/534.0', 'id': 7, 'referrer': 'https://linkedin.com', 'duration': 1910}\n",
      "{'time': '2025-04-01T19:11:30.541083Z', 'page': '/login', 'ip_address': '34.173.81.233', 'session_id': '7c85ce0b-c452-41ca-83b2-cae4ca6d657b', 'user_agent': 'Opera/9.43.(Windows NT 4.0; ckb-IQ) Presto/2.9.184 Version/12.00', 'id': 8, 'referrer': 'https://github.com', 'duration': 210}\n",
      "{'time': '2025-04-01T19:11:31.427847Z', 'page': '/settings', 'ip_address': '78.193.143.219', 'session_id': 'd9265d94-6871-492b-b4c8-b9bdae545a88', 'user_agent': 'Mozilla/5.0 (Windows CE) AppleWebKit/535.1 (KHTML, like Gecko) Chrome/34.0.878.0 Safari/535.1', 'id': 9, 'referrer': 'https://facebook.com', 'duration': 182}\n",
      "{'time': '2025-04-01T19:11:32.453766Z', 'page': '/dashboard', 'ip_address': '122.126.187.5', 'session_id': '7909c7a8-0618-4828-812b-8dd1fb3e8614', 'user_agent': 'Mozilla/5.0 (X11; Linux x86_64) AppleWebKit/534.1 (KHTML, like Gecko) Chrome/61.0.825.0 Safari/534.1', 'id': 10, 'referrer': 'https://facebook.com', 'duration': 2268}\n",
      "{'time': '2025-04-01T19:11:33.489156Z', 'page': '/contact', 'ip_address': '163.245.95.205', 'session_id': 'c7799457-3969-4765-8198-c6805f31c422', 'user_agent': 'Mozilla/5.0 (Windows 95; szl-PL; rv:1.9.2.20) Gecko/6326-06-23 18:13:52.879944 Firefox/7.0', 'id': 11, 'referrer': 'https://twitter.com', 'duration': 4878}\n",
      "{'time': '2025-04-01T19:11:34.352123Z', 'page': '/settings', 'ip_address': '198.20.186.29', 'session_id': 'd099602f-f7f6-4023-9511-95aa52a6551e', 'user_agent': 'Mozilla/5.0 (X11; Linux i686; rv:1.9.7.20) Gecko/6363-10-20 03:30:52.590668 Firefox/10.0', 'id': 12, 'referrer': 'https://linkedin.com', 'duration': 339}\n",
      "{'time': '2025-04-01T19:11:35.248188Z', 'page': '/login', 'ip_address': '24.234.197.69', 'session_id': '109a5174-e66b-4d49-a1a0-92fe4c2f4a6f', 'user_agent': 'Mozilla/5.0 (Macintosh; PPC Mac OS X 10_7_3 rv:3.0; nb-NO) AppleWebKit/532.23.3 (KHTML, like Gecko) Version/4.0 Safari/532.23.3', 'id': 13, 'referrer': 'https://twitter.com', 'duration': 3017}\n",
      "{'time': '2025-04-01T19:11:36.184442Z', 'page': '/dashboard', 'ip_address': '142.159.164.76', 'session_id': 'd099602f-f7f6-4023-9511-95aa52a6551e', 'user_agent': 'Mozilla/5.0 (iPod; U; CPU iPhone OS 4_2 like Mac OS X; gl-ES) AppleWebKit/532.30.2 (KHTML, like Gecko) Version/3.0.5 Mobile/8B115 Safari/6532.30.2', 'id': 14, 'referrer': 'https://google.com', 'duration': 248}\n",
      "{'time': '2025-04-01T19:11:37.199213Z', 'page': '/products', 'ip_address': '186.101.36.206', 'session_id': '7909c7a8-0618-4828-812b-8dd1fb3e8614', 'user_agent': 'Mozilla/5.0 (Macintosh; U; Intel Mac OS X 10_5_1; rv:1.9.4.20) Gecko/4664-12-13 20:29:25.249420 Firefox/3.8', 'id': 15, 'referrer': 'https://github.com', 'duration': 1692}\n",
      "{'time': '2025-04-01T19:11:38.055176Z', 'page': '/products', 'ip_address': '95.252.238.199', 'session_id': '1a5a3bf9-9a7f-4fcf-b2aa-dcc6384a0994', 'user_agent': 'Mozilla/5.0 (iPhone; CPU iPhone OS 12_5_7 like Mac OS X) AppleWebKit/531.2 (KHTML, like Gecko) CriOS/25.0.872.0 Mobile/28K915 Safari/531.2', 'id': 16, 'referrer': 'https://github.com', 'duration': 1450}\n",
      "{'time': '2025-04-01T19:11:39.055567Z', 'page': '/contact', 'ip_address': '31.51.72.113', 'session_id': '1a5a3bf9-9a7f-4fcf-b2aa-dcc6384a0994', 'user_agent': 'Mozilla/5.0 (Windows CE; lv-LV; rv:1.9.0.20) Gecko/5842-05-18 19:56:55.708984 Firefox/14.0', 'id': 17, 'referrer': 'https://facebook.com', 'duration': 4921}\n",
      "{'time': '2025-04-01T19:11:39.955288Z', 'page': '/pricing', 'ip_address': '145.109.47.64', 'session_id': 'b28c00d7-f9c8-4640-8a90-1847ecf2a321', 'user_agent': 'Mozilla/5.0 (Windows; U; Windows NT 5.1) AppleWebKit/534.35.6 (KHTML, like Gecko) Version/5.0 Safari/534.35.6', 'id': 18, 'referrer': 'https://github.com', 'duration': 4967}\n",
      "{'time': '2025-04-01T19:11:41.020082Z', 'page': '/', 'ip_address': '139.131.168.205', 'session_id': '0a549aae-c696-4b94-b6ec-9704d4465340', 'user_agent': 'Mozilla/5.0 (Macintosh; U; PPC Mac OS X 10_6_6; rv:1.9.3.20) Gecko/8377-01-19 10:09:12.457306 Firefox/3.6.12', 'id': 19, 'referrer': 'https://facebook.com', 'duration': 489}\n",
      "{'time': '2025-04-01T19:11:42.036384Z', 'page': '/login', 'ip_address': '75.156.155.109', 'session_id': '056189a0-b5ef-4a19-a753-3504c2c2b85b', 'user_agent': 'Mozilla/5.0 (Macintosh; U; Intel Mac OS X 10_6_4; rv:1.9.6.20) Gecko/6727-01-20 12:11:55.401520 Firefox/3.6.19', 'id': 20, 'referrer': 'https://facebook.com', 'duration': 4672}\n",
      "{'time': '2025-04-01T19:11:43.195482Z', 'page': '/about', 'ip_address': '3.98.71.213', 'session_id': 'd06708b2-314f-46d1-907a-8355e879d41c', 'user_agent': 'Mozilla/5.0 (Macintosh; U; PPC Mac OS X 10_9_3; rv:1.9.4.20) Gecko/6508-12-04 19:06:58.937042 Firefox/3.8', 'id': 21, 'referrer': 'https://linkedin.com', 'duration': 2281}\n",
      "{'time': '2025-04-01T19:11:44.231629Z', 'page': '/pricing', 'ip_address': '220.57.176.94', 'session_id': 'd9265d94-6871-492b-b4c8-b9bdae545a88', 'user_agent': 'Mozilla/5.0 (iPad; CPU iPad OS 10_3_3 like Mac OS X) AppleWebKit/533.1 (KHTML, like Gecko) FxiOS/13.6s9881.0 Mobile/98F038 Safari/533.1', 'id': 22, 'referrer': 'https://google.com', 'duration': 275}\n",
      "{'time': '2025-04-01T19:11:45.327167Z', 'page': '/pricing', 'ip_address': '175.48.144.247', 'session_id': '109a5174-e66b-4d49-a1a0-92fe4c2f4a6f', 'user_agent': 'Opera/8.24.(X11; Linux x86_64; xh-ZA) Presto/2.9.187 Version/10.00', 'id': 23, 'referrer': 'https://google.com', 'duration': 1586}\n",
      "{'time': '2025-04-01T19:11:46.346211Z', 'page': '/pricing', 'ip_address': '222.187.14.160', 'session_id': '967fe148-511e-40a5-9995-8ec453a70745', 'user_agent': 'Mozilla/5.0 (Macintosh; U; PPC Mac OS X 10_10_6; rv:1.9.2.20) Gecko/2584-12-01 08:58:14.229687 Firefox/11.0', 'id': 24, 'referrer': 'https://github.com', 'duration': 691}\n",
      "{'time': '2025-04-01T19:11:47.385732Z', 'page': '/login', 'ip_address': '88.180.19.43', 'session_id': 'd06708b2-314f-46d1-907a-8355e879d41c', 'user_agent': 'Mozilla/5.0 (Macintosh; Intel Mac OS X 10_6_2 rv:3.0; tt-RU) AppleWebKit/533.4.7 (KHTML, like Gecko) Version/4.1 Safari/533.4.7', 'id': 25, 'referrer': 'https://facebook.com', 'duration': 605}\n",
      "{'time': '2025-04-01T19:11:48.258536Z', 'page': '/pricing', 'ip_address': '22.254.5.49', 'session_id': 'da823d6c-e3aa-4301-9bc4-33646cf72e22', 'user_agent': 'Opera/9.98.(X11; Linux i686; or-IN) Presto/2.9.189 Version/10.00', 'id': 26, 'referrer': 'https://facebook.com', 'duration': 1031}\n",
      "{'time': '2025-04-01T19:11:49.197777Z', 'page': '/', 'ip_address': '10.144.209.144', 'session_id': 'd06708b2-314f-46d1-907a-8355e879d41c', 'user_agent': 'Mozilla/5.0 (Android 3.2; Mobile; rv:52.0) Gecko/52.0 Firefox/52.0', 'id': 27, 'referrer': 'https://linkedin.com', 'duration': 2335}\n",
      "{'time': '2025-04-01T19:11:50.236184Z', 'page': '/signup', 'ip_address': '60.113.199.79', 'session_id': 'b28c00d7-f9c8-4640-8a90-1847ecf2a321', 'user_agent': 'Mozilla/5.0 (Macintosh; Intel Mac OS X 10_5_2; rv:1.9.5.20) Gecko/3272-05-15 23:05:46.821777 Firefox/3.8', 'id': 28, 'referrer': '', 'duration': 394}\n",
      "{'time': '2025-04-01T19:11:51.253118Z', 'page': '/dashboard', 'ip_address': '3.36.53.39', 'session_id': 'd06708b2-314f-46d1-907a-8355e879d41c', 'user_agent': 'Mozilla/5.0 (Android 4.4; Mobile; rv:22.0) Gecko/22.0 Firefox/22.0', 'id': 29, 'referrer': '', 'duration': 836}\n",
      "{'time': '2025-04-01T19:11:52.155509Z', 'page': '/', 'ip_address': '222.241.190.95', 'session_id': '45601989-bbe6-41f4-a108-5282ef2a9ee4', 'user_agent': 'Mozilla/5.0 (Macintosh; PPC Mac OS X 10_7_3 rv:6.0; pt-BR) AppleWebKit/533.6.7 (KHTML, like Gecko) Version/4.0.4 Safari/533.6.7', 'id': 30, 'referrer': 'https://facebook.com', 'duration': 4788}\n"
     ]
    },
    {
     "ename": "KeyboardInterrupt",
     "evalue": "",
     "output_type": "error",
     "traceback": [
      "\u001b[31m---------------------------------------------------------------------------\u001b[39m",
      "\u001b[31mKeyboardInterrupt\u001b[39m                         Traceback (most recent call last)",
      "\u001b[36mCell\u001b[39m\u001b[36m \u001b[39m\u001b[32mIn[18]\u001b[39m\u001b[32m, line 42\u001b[39m\n\u001b[32m     27\u001b[39m user_agent = random.choice([\n\u001b[32m     28\u001b[39m         fake.chrome,\n\u001b[32m     29\u001b[39m         fake.firefox,\n\u001b[32m   (...)\u001b[39m\u001b[32m     32\u001b[39m         fake.user_agent\n\u001b[32m     33\u001b[39m     ])()\n\u001b[32m     34\u001b[39m payload = \u001b[38;5;28mdict\u001b[39m(\n\u001b[32m     35\u001b[39m     page=random.choice(pages),\n\u001b[32m     36\u001b[39m     user_agent=user_agent,\n\u001b[32m   (...)\u001b[39m\u001b[32m     40\u001b[39m     duration=random.randint(\u001b[32m50\u001b[39m, \u001b[32m5000\u001b[39m)  \u001b[38;5;66;03m# Between 5 and 300 seconds\u001b[39;00m\n\u001b[32m     41\u001b[39m )\n\u001b[32m---> \u001b[39m\u001b[32m42\u001b[39m response = \u001b[43mrequests\u001b[49m\u001b[43m.\u001b[49m\u001b[43mpost\u001b[49m\u001b[43m(\u001b[49m\u001b[43mcreate_endpoint\u001b[49m\u001b[43m,\u001b[49m\u001b[43m \u001b[49m\u001b[43mjson\u001b[49m\u001b[43m=\u001b[49m\u001b[43mpayload\u001b[49m\u001b[43m)\u001b[49m \u001b[38;5;66;03m# HTTP POST\u001b[39;00m\n\u001b[32m     43\u001b[39m \u001b[38;5;28;01mif\u001b[39;00m response.ok:\n\u001b[32m     44\u001b[39m     data = response.json()\n",
      "\u001b[36mFile \u001b[39m\u001b[32m/media/de-ninja/codebase/finalized-projects/analytics-api/.venv/lib/python3.12/site-packages/requests/api.py:115\u001b[39m, in \u001b[36mpost\u001b[39m\u001b[34m(url, data, json, **kwargs)\u001b[39m\n\u001b[32m    103\u001b[39m \u001b[38;5;28;01mdef\u001b[39;00m\u001b[38;5;250m \u001b[39m\u001b[34mpost\u001b[39m(url, data=\u001b[38;5;28;01mNone\u001b[39;00m, json=\u001b[38;5;28;01mNone\u001b[39;00m, **kwargs):\n\u001b[32m    104\u001b[39m \u001b[38;5;250m    \u001b[39m\u001b[33mr\u001b[39m\u001b[33;03m\"\"\"Sends a POST request.\u001b[39;00m\n\u001b[32m    105\u001b[39m \n\u001b[32m    106\u001b[39m \u001b[33;03m    :param url: URL for the new :class:`Request` object.\u001b[39;00m\n\u001b[32m   (...)\u001b[39m\u001b[32m    112\u001b[39m \u001b[33;03m    :rtype: requests.Response\u001b[39;00m\n\u001b[32m    113\u001b[39m \u001b[33;03m    \"\"\"\u001b[39;00m\n\u001b[32m--> \u001b[39m\u001b[32m115\u001b[39m     \u001b[38;5;28;01mreturn\u001b[39;00m \u001b[43mrequest\u001b[49m\u001b[43m(\u001b[49m\u001b[33;43m\"\u001b[39;49m\u001b[33;43mpost\u001b[39;49m\u001b[33;43m\"\u001b[39;49m\u001b[43m,\u001b[49m\u001b[43m \u001b[49m\u001b[43murl\u001b[49m\u001b[43m,\u001b[49m\u001b[43m \u001b[49m\u001b[43mdata\u001b[49m\u001b[43m=\u001b[49m\u001b[43mdata\u001b[49m\u001b[43m,\u001b[49m\u001b[43m \u001b[49m\u001b[43mjson\u001b[49m\u001b[43m=\u001b[49m\u001b[43mjson\u001b[49m\u001b[43m,\u001b[49m\u001b[43m \u001b[49m\u001b[43m*\u001b[49m\u001b[43m*\u001b[49m\u001b[43mkwargs\u001b[49m\u001b[43m)\u001b[49m\n",
      "\u001b[36mFile \u001b[39m\u001b[32m/media/de-ninja/codebase/finalized-projects/analytics-api/.venv/lib/python3.12/site-packages/requests/api.py:59\u001b[39m, in \u001b[36mrequest\u001b[39m\u001b[34m(method, url, **kwargs)\u001b[39m\n\u001b[32m     55\u001b[39m \u001b[38;5;66;03m# By using the 'with' statement we are sure the session is closed, thus we\u001b[39;00m\n\u001b[32m     56\u001b[39m \u001b[38;5;66;03m# avoid leaving sockets open which can trigger a ResourceWarning in some\u001b[39;00m\n\u001b[32m     57\u001b[39m \u001b[38;5;66;03m# cases, and look like a memory leak in others.\u001b[39;00m\n\u001b[32m     58\u001b[39m \u001b[38;5;28;01mwith\u001b[39;00m sessions.Session() \u001b[38;5;28;01mas\u001b[39;00m session:\n\u001b[32m---> \u001b[39m\u001b[32m59\u001b[39m     \u001b[38;5;28;01mreturn\u001b[39;00m \u001b[43msession\u001b[49m\u001b[43m.\u001b[49m\u001b[43mrequest\u001b[49m\u001b[43m(\u001b[49m\u001b[43mmethod\u001b[49m\u001b[43m=\u001b[49m\u001b[43mmethod\u001b[49m\u001b[43m,\u001b[49m\u001b[43m \u001b[49m\u001b[43murl\u001b[49m\u001b[43m=\u001b[49m\u001b[43murl\u001b[49m\u001b[43m,\u001b[49m\u001b[43m \u001b[49m\u001b[43m*\u001b[49m\u001b[43m*\u001b[49m\u001b[43mkwargs\u001b[49m\u001b[43m)\u001b[49m\n",
      "\u001b[36mFile \u001b[39m\u001b[32m/media/de-ninja/codebase/finalized-projects/analytics-api/.venv/lib/python3.12/site-packages/requests/sessions.py:589\u001b[39m, in \u001b[36mSession.request\u001b[39m\u001b[34m(self, method, url, params, data, headers, cookies, files, auth, timeout, allow_redirects, proxies, hooks, stream, verify, cert, json)\u001b[39m\n\u001b[32m    584\u001b[39m send_kwargs = {\n\u001b[32m    585\u001b[39m     \u001b[33m\"\u001b[39m\u001b[33mtimeout\u001b[39m\u001b[33m\"\u001b[39m: timeout,\n\u001b[32m    586\u001b[39m     \u001b[33m\"\u001b[39m\u001b[33mallow_redirects\u001b[39m\u001b[33m\"\u001b[39m: allow_redirects,\n\u001b[32m    587\u001b[39m }\n\u001b[32m    588\u001b[39m send_kwargs.update(settings)\n\u001b[32m--> \u001b[39m\u001b[32m589\u001b[39m resp = \u001b[38;5;28;43mself\u001b[39;49m\u001b[43m.\u001b[49m\u001b[43msend\u001b[49m\u001b[43m(\u001b[49m\u001b[43mprep\u001b[49m\u001b[43m,\u001b[49m\u001b[43m \u001b[49m\u001b[43m*\u001b[49m\u001b[43m*\u001b[49m\u001b[43msend_kwargs\u001b[49m\u001b[43m)\u001b[49m\n\u001b[32m    591\u001b[39m \u001b[38;5;28;01mreturn\u001b[39;00m resp\n",
      "\u001b[36mFile \u001b[39m\u001b[32m/media/de-ninja/codebase/finalized-projects/analytics-api/.venv/lib/python3.12/site-packages/requests/sessions.py:703\u001b[39m, in \u001b[36mSession.send\u001b[39m\u001b[34m(self, request, **kwargs)\u001b[39m\n\u001b[32m    700\u001b[39m start = preferred_clock()\n\u001b[32m    702\u001b[39m \u001b[38;5;66;03m# Send the request\u001b[39;00m\n\u001b[32m--> \u001b[39m\u001b[32m703\u001b[39m r = \u001b[43madapter\u001b[49m\u001b[43m.\u001b[49m\u001b[43msend\u001b[49m\u001b[43m(\u001b[49m\u001b[43mrequest\u001b[49m\u001b[43m,\u001b[49m\u001b[43m \u001b[49m\u001b[43m*\u001b[49m\u001b[43m*\u001b[49m\u001b[43mkwargs\u001b[49m\u001b[43m)\u001b[49m\n\u001b[32m    705\u001b[39m \u001b[38;5;66;03m# Total elapsed time of the request (approximately)\u001b[39;00m\n\u001b[32m    706\u001b[39m elapsed = preferred_clock() - start\n",
      "\u001b[36mFile \u001b[39m\u001b[32m/media/de-ninja/codebase/finalized-projects/analytics-api/.venv/lib/python3.12/site-packages/requests/adapters.py:667\u001b[39m, in \u001b[36mHTTPAdapter.send\u001b[39m\u001b[34m(self, request, stream, timeout, verify, cert, proxies)\u001b[39m\n\u001b[32m    664\u001b[39m     timeout = TimeoutSauce(connect=timeout, read=timeout)\n\u001b[32m    666\u001b[39m \u001b[38;5;28;01mtry\u001b[39;00m:\n\u001b[32m--> \u001b[39m\u001b[32m667\u001b[39m     resp = \u001b[43mconn\u001b[49m\u001b[43m.\u001b[49m\u001b[43murlopen\u001b[49m\u001b[43m(\u001b[49m\n\u001b[32m    668\u001b[39m \u001b[43m        \u001b[49m\u001b[43mmethod\u001b[49m\u001b[43m=\u001b[49m\u001b[43mrequest\u001b[49m\u001b[43m.\u001b[49m\u001b[43mmethod\u001b[49m\u001b[43m,\u001b[49m\n\u001b[32m    669\u001b[39m \u001b[43m        \u001b[49m\u001b[43murl\u001b[49m\u001b[43m=\u001b[49m\u001b[43murl\u001b[49m\u001b[43m,\u001b[49m\n\u001b[32m    670\u001b[39m \u001b[43m        \u001b[49m\u001b[43mbody\u001b[49m\u001b[43m=\u001b[49m\u001b[43mrequest\u001b[49m\u001b[43m.\u001b[49m\u001b[43mbody\u001b[49m\u001b[43m,\u001b[49m\n\u001b[32m    671\u001b[39m \u001b[43m        \u001b[49m\u001b[43mheaders\u001b[49m\u001b[43m=\u001b[49m\u001b[43mrequest\u001b[49m\u001b[43m.\u001b[49m\u001b[43mheaders\u001b[49m\u001b[43m,\u001b[49m\n\u001b[32m    672\u001b[39m \u001b[43m        \u001b[49m\u001b[43mredirect\u001b[49m\u001b[43m=\u001b[49m\u001b[38;5;28;43;01mFalse\u001b[39;49;00m\u001b[43m,\u001b[49m\n\u001b[32m    673\u001b[39m \u001b[43m        \u001b[49m\u001b[43massert_same_host\u001b[49m\u001b[43m=\u001b[49m\u001b[38;5;28;43;01mFalse\u001b[39;49;00m\u001b[43m,\u001b[49m\n\u001b[32m    674\u001b[39m \u001b[43m        \u001b[49m\u001b[43mpreload_content\u001b[49m\u001b[43m=\u001b[49m\u001b[38;5;28;43;01mFalse\u001b[39;49;00m\u001b[43m,\u001b[49m\n\u001b[32m    675\u001b[39m \u001b[43m        \u001b[49m\u001b[43mdecode_content\u001b[49m\u001b[43m=\u001b[49m\u001b[38;5;28;43;01mFalse\u001b[39;49;00m\u001b[43m,\u001b[49m\n\u001b[32m    676\u001b[39m \u001b[43m        \u001b[49m\u001b[43mretries\u001b[49m\u001b[43m=\u001b[49m\u001b[38;5;28;43mself\u001b[39;49m\u001b[43m.\u001b[49m\u001b[43mmax_retries\u001b[49m\u001b[43m,\u001b[49m\n\u001b[32m    677\u001b[39m \u001b[43m        \u001b[49m\u001b[43mtimeout\u001b[49m\u001b[43m=\u001b[49m\u001b[43mtimeout\u001b[49m\u001b[43m,\u001b[49m\n\u001b[32m    678\u001b[39m \u001b[43m        \u001b[49m\u001b[43mchunked\u001b[49m\u001b[43m=\u001b[49m\u001b[43mchunked\u001b[49m\u001b[43m,\u001b[49m\n\u001b[32m    679\u001b[39m \u001b[43m    \u001b[49m\u001b[43m)\u001b[49m\n\u001b[32m    681\u001b[39m \u001b[38;5;28;01mexcept\u001b[39;00m (ProtocolError, \u001b[38;5;167;01mOSError\u001b[39;00m) \u001b[38;5;28;01mas\u001b[39;00m err:\n\u001b[32m    682\u001b[39m     \u001b[38;5;28;01mraise\u001b[39;00m \u001b[38;5;167;01mConnectionError\u001b[39;00m(err, request=request)\n",
      "\u001b[36mFile \u001b[39m\u001b[32m/media/de-ninja/codebase/finalized-projects/analytics-api/.venv/lib/python3.12/site-packages/urllib3/connectionpool.py:787\u001b[39m, in \u001b[36mHTTPConnectionPool.urlopen\u001b[39m\u001b[34m(self, method, url, body, headers, retries, redirect, assert_same_host, timeout, pool_timeout, release_conn, chunked, body_pos, preload_content, decode_content, **response_kw)\u001b[39m\n\u001b[32m    784\u001b[39m response_conn = conn \u001b[38;5;28;01mif\u001b[39;00m \u001b[38;5;129;01mnot\u001b[39;00m release_conn \u001b[38;5;28;01melse\u001b[39;00m \u001b[38;5;28;01mNone\u001b[39;00m\n\u001b[32m    786\u001b[39m \u001b[38;5;66;03m# Make the request on the HTTPConnection object\u001b[39;00m\n\u001b[32m--> \u001b[39m\u001b[32m787\u001b[39m response = \u001b[38;5;28;43mself\u001b[39;49m\u001b[43m.\u001b[49m\u001b[43m_make_request\u001b[49m\u001b[43m(\u001b[49m\n\u001b[32m    788\u001b[39m \u001b[43m    \u001b[49m\u001b[43mconn\u001b[49m\u001b[43m,\u001b[49m\n\u001b[32m    789\u001b[39m \u001b[43m    \u001b[49m\u001b[43mmethod\u001b[49m\u001b[43m,\u001b[49m\n\u001b[32m    790\u001b[39m \u001b[43m    \u001b[49m\u001b[43murl\u001b[49m\u001b[43m,\u001b[49m\n\u001b[32m    791\u001b[39m \u001b[43m    \u001b[49m\u001b[43mtimeout\u001b[49m\u001b[43m=\u001b[49m\u001b[43mtimeout_obj\u001b[49m\u001b[43m,\u001b[49m\n\u001b[32m    792\u001b[39m \u001b[43m    \u001b[49m\u001b[43mbody\u001b[49m\u001b[43m=\u001b[49m\u001b[43mbody\u001b[49m\u001b[43m,\u001b[49m\n\u001b[32m    793\u001b[39m \u001b[43m    \u001b[49m\u001b[43mheaders\u001b[49m\u001b[43m=\u001b[49m\u001b[43mheaders\u001b[49m\u001b[43m,\u001b[49m\n\u001b[32m    794\u001b[39m \u001b[43m    \u001b[49m\u001b[43mchunked\u001b[49m\u001b[43m=\u001b[49m\u001b[43mchunked\u001b[49m\u001b[43m,\u001b[49m\n\u001b[32m    795\u001b[39m \u001b[43m    \u001b[49m\u001b[43mretries\u001b[49m\u001b[43m=\u001b[49m\u001b[43mretries\u001b[49m\u001b[43m,\u001b[49m\n\u001b[32m    796\u001b[39m \u001b[43m    \u001b[49m\u001b[43mresponse_conn\u001b[49m\u001b[43m=\u001b[49m\u001b[43mresponse_conn\u001b[49m\u001b[43m,\u001b[49m\n\u001b[32m    797\u001b[39m \u001b[43m    \u001b[49m\u001b[43mpreload_content\u001b[49m\u001b[43m=\u001b[49m\u001b[43mpreload_content\u001b[49m\u001b[43m,\u001b[49m\n\u001b[32m    798\u001b[39m \u001b[43m    \u001b[49m\u001b[43mdecode_content\u001b[49m\u001b[43m=\u001b[49m\u001b[43mdecode_content\u001b[49m\u001b[43m,\u001b[49m\n\u001b[32m    799\u001b[39m \u001b[43m    \u001b[49m\u001b[43m*\u001b[49m\u001b[43m*\u001b[49m\u001b[43mresponse_kw\u001b[49m\u001b[43m,\u001b[49m\n\u001b[32m    800\u001b[39m \u001b[43m\u001b[49m\u001b[43m)\u001b[49m\n\u001b[32m    802\u001b[39m \u001b[38;5;66;03m# Everything went great!\u001b[39;00m\n\u001b[32m    803\u001b[39m clean_exit = \u001b[38;5;28;01mTrue\u001b[39;00m\n",
      "\u001b[36mFile \u001b[39m\u001b[32m/media/de-ninja/codebase/finalized-projects/analytics-api/.venv/lib/python3.12/site-packages/urllib3/connectionpool.py:534\u001b[39m, in \u001b[36mHTTPConnectionPool._make_request\u001b[39m\u001b[34m(self, conn, method, url, body, headers, retries, timeout, chunked, response_conn, preload_content, decode_content, enforce_content_length)\u001b[39m\n\u001b[32m    532\u001b[39m \u001b[38;5;66;03m# Receive the response from the server\u001b[39;00m\n\u001b[32m    533\u001b[39m \u001b[38;5;28;01mtry\u001b[39;00m:\n\u001b[32m--> \u001b[39m\u001b[32m534\u001b[39m     response = \u001b[43mconn\u001b[49m\u001b[43m.\u001b[49m\u001b[43mgetresponse\u001b[49m\u001b[43m(\u001b[49m\u001b[43m)\u001b[49m\n\u001b[32m    535\u001b[39m \u001b[38;5;28;01mexcept\u001b[39;00m (BaseSSLError, \u001b[38;5;167;01mOSError\u001b[39;00m) \u001b[38;5;28;01mas\u001b[39;00m e:\n\u001b[32m    536\u001b[39m     \u001b[38;5;28mself\u001b[39m._raise_timeout(err=e, url=url, timeout_value=read_timeout)\n",
      "\u001b[36mFile \u001b[39m\u001b[32m/media/de-ninja/codebase/finalized-projects/analytics-api/.venv/lib/python3.12/site-packages/urllib3/connection.py:516\u001b[39m, in \u001b[36mHTTPConnection.getresponse\u001b[39m\u001b[34m(self)\u001b[39m\n\u001b[32m    513\u001b[39m _shutdown = \u001b[38;5;28mgetattr\u001b[39m(\u001b[38;5;28mself\u001b[39m.sock, \u001b[33m\"\u001b[39m\u001b[33mshutdown\u001b[39m\u001b[33m\"\u001b[39m, \u001b[38;5;28;01mNone\u001b[39;00m)\n\u001b[32m    515\u001b[39m \u001b[38;5;66;03m# Get the response from http.client.HTTPConnection\u001b[39;00m\n\u001b[32m--> \u001b[39m\u001b[32m516\u001b[39m httplib_response = \u001b[38;5;28;43msuper\u001b[39;49m\u001b[43m(\u001b[49m\u001b[43m)\u001b[49m\u001b[43m.\u001b[49m\u001b[43mgetresponse\u001b[49m\u001b[43m(\u001b[49m\u001b[43m)\u001b[49m\n\u001b[32m    518\u001b[39m \u001b[38;5;28;01mtry\u001b[39;00m:\n\u001b[32m    519\u001b[39m     assert_header_parsing(httplib_response.msg)\n",
      "\u001b[36mFile \u001b[39m\u001b[32m/usr/lib/python3.12/http/client.py:1428\u001b[39m, in \u001b[36mHTTPConnection.getresponse\u001b[39m\u001b[34m(self)\u001b[39m\n\u001b[32m   1426\u001b[39m \u001b[38;5;28;01mtry\u001b[39;00m:\n\u001b[32m   1427\u001b[39m     \u001b[38;5;28;01mtry\u001b[39;00m:\n\u001b[32m-> \u001b[39m\u001b[32m1428\u001b[39m         \u001b[43mresponse\u001b[49m\u001b[43m.\u001b[49m\u001b[43mbegin\u001b[49m\u001b[43m(\u001b[49m\u001b[43m)\u001b[49m\n\u001b[32m   1429\u001b[39m     \u001b[38;5;28;01mexcept\u001b[39;00m \u001b[38;5;167;01mConnectionError\u001b[39;00m:\n\u001b[32m   1430\u001b[39m         \u001b[38;5;28mself\u001b[39m.close()\n",
      "\u001b[36mFile \u001b[39m\u001b[32m/usr/lib/python3.12/http/client.py:331\u001b[39m, in \u001b[36mHTTPResponse.begin\u001b[39m\u001b[34m(self)\u001b[39m\n\u001b[32m    329\u001b[39m \u001b[38;5;66;03m# read until we get a non-100 response\u001b[39;00m\n\u001b[32m    330\u001b[39m \u001b[38;5;28;01mwhile\u001b[39;00m \u001b[38;5;28;01mTrue\u001b[39;00m:\n\u001b[32m--> \u001b[39m\u001b[32m331\u001b[39m     version, status, reason = \u001b[38;5;28;43mself\u001b[39;49m\u001b[43m.\u001b[49m\u001b[43m_read_status\u001b[49m\u001b[43m(\u001b[49m\u001b[43m)\u001b[49m\n\u001b[32m    332\u001b[39m     \u001b[38;5;28;01mif\u001b[39;00m status != CONTINUE:\n\u001b[32m    333\u001b[39m         \u001b[38;5;28;01mbreak\u001b[39;00m\n",
      "\u001b[36mFile \u001b[39m\u001b[32m/usr/lib/python3.12/http/client.py:292\u001b[39m, in \u001b[36mHTTPResponse._read_status\u001b[39m\u001b[34m(self)\u001b[39m\n\u001b[32m    291\u001b[39m \u001b[38;5;28;01mdef\u001b[39;00m\u001b[38;5;250m \u001b[39m\u001b[34m_read_status\u001b[39m(\u001b[38;5;28mself\u001b[39m):\n\u001b[32m--> \u001b[39m\u001b[32m292\u001b[39m     line = \u001b[38;5;28mstr\u001b[39m(\u001b[38;5;28;43mself\u001b[39;49m\u001b[43m.\u001b[49m\u001b[43mfp\u001b[49m\u001b[43m.\u001b[49m\u001b[43mreadline\u001b[49m\u001b[43m(\u001b[49m\u001b[43m_MAXLINE\u001b[49m\u001b[43m \u001b[49m\u001b[43m+\u001b[49m\u001b[43m \u001b[49m\u001b[32;43m1\u001b[39;49m\u001b[43m)\u001b[49m, \u001b[33m\"\u001b[39m\u001b[33miso-8859-1\u001b[39m\u001b[33m\"\u001b[39m)\n\u001b[32m    293\u001b[39m     \u001b[38;5;28;01mif\u001b[39;00m \u001b[38;5;28mlen\u001b[39m(line) > _MAXLINE:\n\u001b[32m    294\u001b[39m         \u001b[38;5;28;01mraise\u001b[39;00m LineTooLong(\u001b[33m\"\u001b[39m\u001b[33mstatus line\u001b[39m\u001b[33m\"\u001b[39m)\n",
      "\u001b[36mFile \u001b[39m\u001b[32m/usr/lib/python3.12/socket.py:707\u001b[39m, in \u001b[36mSocketIO.readinto\u001b[39m\u001b[34m(self, b)\u001b[39m\n\u001b[32m    705\u001b[39m \u001b[38;5;28;01mwhile\u001b[39;00m \u001b[38;5;28;01mTrue\u001b[39;00m:\n\u001b[32m    706\u001b[39m     \u001b[38;5;28;01mtry\u001b[39;00m:\n\u001b[32m--> \u001b[39m\u001b[32m707\u001b[39m         \u001b[38;5;28;01mreturn\u001b[39;00m \u001b[38;5;28;43mself\u001b[39;49m\u001b[43m.\u001b[49m\u001b[43m_sock\u001b[49m\u001b[43m.\u001b[49m\u001b[43mrecv_into\u001b[49m\u001b[43m(\u001b[49m\u001b[43mb\u001b[49m\u001b[43m)\u001b[49m\n\u001b[32m    708\u001b[39m     \u001b[38;5;28;01mexcept\u001b[39;00m timeout:\n\u001b[32m    709\u001b[39m         \u001b[38;5;28mself\u001b[39m._timeout_occurred = \u001b[38;5;28;01mTrue\u001b[39;00m\n",
      "\u001b[36mFile \u001b[39m\u001b[32m/usr/lib/python3.12/ssl.py:1252\u001b[39m, in \u001b[36mSSLSocket.recv_into\u001b[39m\u001b[34m(self, buffer, nbytes, flags)\u001b[39m\n\u001b[32m   1248\u001b[39m     \u001b[38;5;28;01mif\u001b[39;00m flags != \u001b[32m0\u001b[39m:\n\u001b[32m   1249\u001b[39m         \u001b[38;5;28;01mraise\u001b[39;00m \u001b[38;5;167;01mValueError\u001b[39;00m(\n\u001b[32m   1250\u001b[39m           \u001b[33m\"\u001b[39m\u001b[33mnon-zero flags not allowed in calls to recv_into() on \u001b[39m\u001b[38;5;132;01m%s\u001b[39;00m\u001b[33m\"\u001b[39m %\n\u001b[32m   1251\u001b[39m           \u001b[38;5;28mself\u001b[39m.\u001b[34m__class__\u001b[39m)\n\u001b[32m-> \u001b[39m\u001b[32m1252\u001b[39m     \u001b[38;5;28;01mreturn\u001b[39;00m \u001b[38;5;28;43mself\u001b[39;49m\u001b[43m.\u001b[49m\u001b[43mread\u001b[49m\u001b[43m(\u001b[49m\u001b[43mnbytes\u001b[49m\u001b[43m,\u001b[49m\u001b[43m \u001b[49m\u001b[43mbuffer\u001b[49m\u001b[43m)\u001b[49m\n\u001b[32m   1253\u001b[39m \u001b[38;5;28;01melse\u001b[39;00m:\n\u001b[32m   1254\u001b[39m     \u001b[38;5;28;01mreturn\u001b[39;00m \u001b[38;5;28msuper\u001b[39m().recv_into(buffer, nbytes, flags)\n",
      "\u001b[36mFile \u001b[39m\u001b[32m/usr/lib/python3.12/ssl.py:1104\u001b[39m, in \u001b[36mSSLSocket.read\u001b[39m\u001b[34m(self, len, buffer)\u001b[39m\n\u001b[32m   1102\u001b[39m \u001b[38;5;28;01mtry\u001b[39;00m:\n\u001b[32m   1103\u001b[39m     \u001b[38;5;28;01mif\u001b[39;00m buffer \u001b[38;5;129;01mis\u001b[39;00m \u001b[38;5;129;01mnot\u001b[39;00m \u001b[38;5;28;01mNone\u001b[39;00m:\n\u001b[32m-> \u001b[39m\u001b[32m1104\u001b[39m         \u001b[38;5;28;01mreturn\u001b[39;00m \u001b[38;5;28;43mself\u001b[39;49m\u001b[43m.\u001b[49m\u001b[43m_sslobj\u001b[49m\u001b[43m.\u001b[49m\u001b[43mread\u001b[49m\u001b[43m(\u001b[49m\u001b[38;5;28;43mlen\u001b[39;49m\u001b[43m,\u001b[49m\u001b[43m \u001b[49m\u001b[43mbuffer\u001b[49m\u001b[43m)\u001b[49m\n\u001b[32m   1105\u001b[39m     \u001b[38;5;28;01melse\u001b[39;00m:\n\u001b[32m   1106\u001b[39m         \u001b[38;5;28;01mreturn\u001b[39;00m \u001b[38;5;28mself\u001b[39m._sslobj.read(\u001b[38;5;28mlen\u001b[39m)\n",
      "\u001b[31mKeyboardInterrupt\u001b[39m: "
     ]
    }
   ],
   "source": [
    "from faker import Faker\n",
    "import requests\n",
    "import random\n",
    "events = 10_000\n",
    "pages = [\n",
    "        \"/\", \"/about\", \"/pricing\", \"/contact\", \n",
    "        \"/blog\", \"/products\", \"/login\", \"/signup\",\n",
    "        \"/dashboard\", \"/settings\"\n",
    "    ]\n",
    "fake = Faker()\n",
    "session_ids = [fake.uuid4() for _ in range(20)]\n",
    "path = \"/api/events/\"\n",
    "# base_url = \"http://localhost:8002\" # 127.0.0.1\n",
    "base_url = \"https://analytics-api-production-f448.up.railway.app\"\n",
    "create_endpoint = f\"{base_url}{path}\"\n",
    "referrers = [\n",
    "    \"https://google.com\",\n",
    "    \"https://facebook.com\",\n",
    "    \"https://twitter.com\",\n",
    "    \"https://linkedin.com\",\n",
    "    \"\",  # direct traffic\n",
    "    \"https://github.com\"\n",
    "]\n",
    "\n",
    "for i in range(events):\n",
    "    page = random.choice(pages)\n",
    "    user_agent = random.choice([\n",
    "            fake.chrome,\n",
    "            fake.firefox,\n",
    "            fake.safari,\n",
    "            fake.opera,\n",
    "            fake.user_agent\n",
    "        ])()\n",
    "    payload = dict(\n",
    "        page=random.choice(pages),\n",
    "        user_agent=user_agent,\n",
    "        ip_address=fake.ipv4(),\n",
    "        referrer=random.choice(referrers),\n",
    "        session_id=random.choice(session_ids),\n",
    "        duration=random.randint(50, 5000)  # Between 5 and 300 seconds\n",
    "    )\n",
    "    response = requests.post(create_endpoint, json=payload) # HTTP POST\n",
    "    if response.ok:\n",
    "        data = response.json()\n",
    "        print(data)"
   ]
  },
  {
   "cell_type": "code",
   "execution_count": null,
   "metadata": {},
   "outputs": [],
   "source": []
  }
 ],
 "metadata": {
  "kernelspec": {
   "display_name": ".venv",
   "language": "python",
   "name": "python3"
  },
  "language_info": {
   "codemirror_mode": {
    "name": "ipython",
    "version": 3
   },
   "file_extension": ".py",
   "mimetype": "text/x-python",
   "name": "python",
   "nbconvert_exporter": "python",
   "pygments_lexer": "ipython3",
   "version": "3.12.3"
  }
 },
 "nbformat": 4,
 "nbformat_minor": 2
}
